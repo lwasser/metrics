{
 "cells": [
  {
   "cell_type": "markdown",
   "metadata": {
    "editable": true,
    "slideshow": {
     "slide_type": ""
    },
    "tags": []
   },
   "source": [
    "---\n",
    "title: pyOpenSci Contributor Metrics\n",
    "subtitle: Counts of issue and pull request activity on GitHub\n",
    "license:\n",
    "  code: BSD-3-Clause\n",
    "---"
   ]
  },
  {
   "cell_type": "code",
   "execution_count": 1,
   "metadata": {
    "editable": true,
    "slideshow": {
     "slide_type": ""
    },
    "tags": [
     "remove-input"
    ]
   },
   "outputs": [
    {
     "data": {
      "text/html": [
       "<link href=\"https://fonts.googleapis.com/css2?family=Poppins:wght@400;700&display=swap\" rel=\"stylesheet\">"
      ],
      "text/plain": [
       "<IPython.core.display.HTML object>"
      ]
     },
     "metadata": {},
     "output_type": "display_data"
    }
   ],
   "source": [
    "import warnings\n",
    "from pathlib import Path\n",
    "\n",
    "import altair as alt\n",
    "import pandas as pd\n",
    "\n",
    "# This is a local module that stores the plot theme\n",
    "from pyosmetrics.plot_theme import load_poppins_font, register_and_enable_poppins_theme\n",
    "\n",
    "pd.options.mode.chained_assignment = None\n",
    "pd.options.future.infer_string = True\n",
    "\n",
    "# Suppress all warnings\n",
    "warnings.filterwarnings(\"ignore\")\n",
    "\n",
    "# Load the & register Poppins theme\n",
    "load_poppins_font()\n",
    "register_and_enable_poppins_theme()"
   ]
  },
  {
   "cell_type": "code",
   "execution_count": 2,
   "metadata": {
    "editable": true,
    "slideshow": {
     "slide_type": ""
    },
    "tags": [
     "remove-input"
    ]
   },
   "outputs": [],
   "source": [
    "# Get the current notebook directory\n",
    "current_dir = Path.cwd()\n",
    "parent_dir = current_dir.parent.parent\n",
    "data_dir = parent_dir / \"_data\"\n",
    "all_files = list(data_dir.glob(\"20*\"))\n",
    "dfs = [pd.read_csv(file, parse_dates=[\"item_opened_by\"]) for file in all_files]\n",
    "df = pd.concat(dfs, ignore_index=True)"
   ]
  },
  {
   "cell_type": "code",
   "execution_count": 6,
   "metadata": {
    "editable": true,
    "slideshow": {
     "slide_type": ""
    },
    "tags": [
     "remove-input"
    ]
   },
   "outputs": [
    {
     "data": {
      "text/plain": [
       "94"
      ]
     },
     "execution_count": 6,
     "metadata": {},
     "output_type": "execute_result"
    }
   ],
   "source": [
    "# Open the contrib data and count review metrics\n",
    "contribs_path = parent_dir / \"_data\" / \"review_contribs.csv\"\n",
    "contribs_data = pd.read_csv(contribs_path, parse_dates=[\"date_added\"])\n",
    "maintianers = contribs_data[contribs_data[\"maintainer\"]]\n",
    "total_maintainers= len(maintianers)"
   ]
  },
  {
   "cell_type": "markdown",
   "metadata": {},
   "source": [
    "## pyOpenSci Peer review contributor metrics"
   ]
  },
  {
   "cell_type": "code",
   "execution_count": 5,
   "metadata": {
    "editable": true,
    "slideshow": {
     "slide_type": ""
    },
    "tags": [
     "remove-input"
    ]
   },
   "outputs": [],
   "source": [
    "total_contribs = len(contribs_data)\n",
    "# Calculate reviewer types \n",
    "columns = [\"packages_reviewed\", \"packages_editor\", \"packages_eic\"]\n",
    "counts = {col: int((contribs_data[col] > 0).sum()) for col in columns}"
   ]
  },
  {
   "cell_type": "markdown",
   "metadata": {
    "editable": true,
    "slideshow": {
     "slide_type": ""
    },
    "tags": [],
    "user_expressions": [
     {
      "expression": "counts[\"packages_reviewed\"]",
      "result": {
       "data": {
        "text/plain": "87"
       },
       "metadata": {},
       "status": "ok"
      }
     },
     {
      "expression": "counts[\"packages_editor\"]",
      "result": {
       "data": {
        "text/plain": "20"
       },
       "metadata": {},
       "status": "ok"
      }
     },
     {
      "expression": "counts[\"packages_eic\"]",
      "result": {
       "data": {
        "text/plain": "4"
       },
       "metadata": {},
       "status": "ok"
      }
     },
     {
      "expression": "total_contribs",
      "result": {
       "data": {
        "text/plain": "286"
       },
       "metadata": {},
       "status": "ok"
      }
     }
    ]
   },
   "source": [
    "\n",
    "* **{eval}`counts[\"packages_reviewed\"]`** People have served as a reviewer for pyOpenSci\n",
    "* **{eval}`counts[\"packages_editor\"]`** People have served as an editor for pyOpenSci\n",
    "* **{eval}`counts[\"packages_eic\"]`** People have served as eic for pyOpenSci\n",
    "* **{eval}`total_maintainers`** maintianers\n",
    "  \n",
    "To date, **{eval}`total_contribs`** people have contributed to pyOpenSci\n",
    "\n",
    "## Contributors over time\n",
    "Above we calculate issues and prs to pyOpenSci over time. Here we look at new contributors over time"
   ]
  },
  {
   "cell_type": "markdown",
   "metadata": {},
   "source": [
    "## All contributions to date \n",
    "\n",
    "The plot below shows the total contributions to pyOpenSci. To create this plot we:\n",
    "\n",
    "1. Removed any contributions from bots\n",
    "2. Stratified the data to show both staff contributions vs. non-staff contributions. \n",
    "\n",
    "### Staff vs. volunteer pull request and issue contributions\n",
    "\n",
    "Non-staff contributions grow between May and August, covering Q3 and Q4 when we travel to meetings such as SciPy and PyCon and host events. Q4 is typically slower, given the holiday season.  "
   ]
  },
  {
   "cell_type": "code",
   "execution_count": 5,
   "metadata": {
    "editable": true,
    "slideshow": {
     "slide_type": ""
    },
    "tags": [
     "remove-input"
    ]
   },
   "outputs": [],
   "source": [
    "df[\"quarter\"] = df[\"item_opened_by\"].dt.to_period(\"Q\")\n",
    "\n",
    "# Group by quarter and contrib_type (staff vs non-staff)\n",
    "df_quarters = df.groupby([\"quarter\", \"contrib_type\"]).size().reset_index(name=\"count\")\n",
    "df_quarters[\"quarter\"] = df_quarters[\"quarter\"].astype(str)\n",
    "\n",
    "# Create a new column for filtered labels\n",
    "df_quarters[\"quarter_label\"] = df_quarters[\"quarter\"]\n",
    "df_quarters[\"year\"] = df_quarters[\"quarter\"].str[:4]\n",
    "df_quarters[\"qtr\"] = df_quarters[\"quarter\"].str[-2:]\n",
    "df_quarters.reset_index(inplace=True)\n",
    "\n",
    "# Function to insert newline before the \"Q\" character\n",
    "def insert_newline(s):\n",
    "    return s.replace('Q', ' Q')\n",
    "\n",
    "# Apply the function to the 'quarter' column\n",
    "df_quarters['quarter_label'] = df_quarters['quarter_label'].apply(insert_newline)\n",
    "\n"
   ]
  },
  {
   "cell_type": "markdown",
   "metadata": {
    "editable": true,
    "scrolled": true,
    "slideshow": {
     "slide_type": ""
    },
    "tags": [
     "remove-input"
    ]
   },
   "source": [
    "# Create the Altair chart\n",
    "chart = (\n",
    "    alt.Chart(df_quarters)\n",
    "    .mark_bar()\n",
    "    .encode(\n",
    "        alt.X('quarter_label:O')\n",
    "            .title('Quarter')\n",
    "            .axis(labelAngle=45),\n",
    "        alt.Y('count:Q')\n",
    "            .stack(True),\n",
    "        alt.Color('contrib_type:N')\n",
    "            .title(\"Contributor Type\")\n",
    "            .scale(range=[\"#81c0aa\", \"#735fab\"]),\n",
    "        alt.Tooltip([\"quarter_label\", \"contrib_type\", \"count\"])\n",
    "    )\n",
    "    .properties(title=\"Staff vs. Volunteer Contributor by Quarter\")\n",
    "    .configure_legend(\n",
    "        orient='top',\n",
    "        titleAnchor='middle',\n",
    "        direction='horizontal',\n",
    "        padding=10,\n",
    "    )\n",
    "    .interactive()\n",
    ")\n",
    "\n",
    "chart"
   ]
  },
  {
   "cell_type": "code",
   "execution_count": 6,
   "metadata": {
    "editable": true,
    "slideshow": {
     "slide_type": ""
    },
    "tags": [
     "remove-input"
    ]
   },
   "outputs": [],
   "source": [
    "# Group by month and count new contributors\n",
    "monthly_counts = contribs_data.resample(\"M\", on=\"date_added\").count()[\"name\"]\n",
    "\n",
    "# Compute cumulative sum for growth over time\n",
    "cumulative_growth = monthly_counts.cumsum().reset_index()\n",
    "cumulative_growth.columns = [\"date\", \"cumulative_contributors\"]\n"
   ]
  },
  {
   "cell_type": "code",
   "execution_count": 7,
   "metadata": {
    "editable": true,
    "slideshow": {
     "slide_type": ""
    },
    "tags": [
     "remove-input"
    ]
   },
   "outputs": [
    {
     "data": {
      "text/html": [
       "\n",
       "<style>\n",
       "  #altair-viz-ee994352da6040faad834d8f14e6236d.vega-embed {\n",
       "    width: 100%;\n",
       "    display: flex;\n",
       "  }\n",
       "\n",
       "  #altair-viz-ee994352da6040faad834d8f14e6236d.vega-embed details,\n",
       "  #altair-viz-ee994352da6040faad834d8f14e6236d.vega-embed details summary {\n",
       "    position: relative;\n",
       "  }\n",
       "</style>\n",
       "<div id=\"altair-viz-ee994352da6040faad834d8f14e6236d\"></div>\n",
       "<script type=\"text/javascript\">\n",
       "  var VEGA_DEBUG = (typeof VEGA_DEBUG == \"undefined\") ? {} : VEGA_DEBUG;\n",
       "  (function(spec, embedOpt){\n",
       "    let outputDiv = document.currentScript.previousElementSibling;\n",
       "    if (outputDiv.id !== \"altair-viz-ee994352da6040faad834d8f14e6236d\") {\n",
       "      outputDiv = document.getElementById(\"altair-viz-ee994352da6040faad834d8f14e6236d\");\n",
       "    }\n",
       "    const paths = {\n",
       "      \"vega\": \"https://cdn.jsdelivr.net/npm/vega@5?noext\",\n",
       "      \"vega-lib\": \"https://cdn.jsdelivr.net/npm/vega-lib?noext\",\n",
       "      \"vega-lite\": \"https://cdn.jsdelivr.net/npm/vega-lite@5.17.0?noext\",\n",
       "      \"vega-embed\": \"https://cdn.jsdelivr.net/npm/vega-embed@6?noext\",\n",
       "    };\n",
       "\n",
       "    function maybeLoadScript(lib, version) {\n",
       "      var key = `${lib.replace(\"-\", \"\")}_version`;\n",
       "      return (VEGA_DEBUG[key] == version) ?\n",
       "        Promise.resolve(paths[lib]) :\n",
       "        new Promise(function(resolve, reject) {\n",
       "          var s = document.createElement('script');\n",
       "          document.getElementsByTagName(\"head\")[0].appendChild(s);\n",
       "          s.async = true;\n",
       "          s.onload = () => {\n",
       "            VEGA_DEBUG[key] = version;\n",
       "            return resolve(paths[lib]);\n",
       "          };\n",
       "          s.onerror = () => reject(`Error loading script: ${paths[lib]}`);\n",
       "          s.src = paths[lib];\n",
       "        });\n",
       "    }\n",
       "\n",
       "    function showError(err) {\n",
       "      outputDiv.innerHTML = `<div class=\"error\" style=\"color:red;\">${err}</div>`;\n",
       "      throw err;\n",
       "    }\n",
       "\n",
       "    function displayChart(vegaEmbed) {\n",
       "      vegaEmbed(outputDiv, spec, embedOpt)\n",
       "        .catch(err => showError(`Javascript Error: ${err.message}<br>This usually means there's a typo in your chart specification. See the javascript console for the full traceback.`));\n",
       "    }\n",
       "\n",
       "    if(typeof define === \"function\" && define.amd) {\n",
       "      requirejs.config({paths});\n",
       "      require([\"vega-embed\"], displayChart, err => showError(`Error loading script: ${err.message}`));\n",
       "    } else {\n",
       "      maybeLoadScript(\"vega\", \"5\")\n",
       "        .then(() => maybeLoadScript(\"vega-lite\", \"5.17.0\"))\n",
       "        .then(() => maybeLoadScript(\"vega-embed\", \"6\"))\n",
       "        .catch(showError)\n",
       "        .then(() => displayChart(vegaEmbed));\n",
       "    }\n",
       "  })({\"config\": {\"title\": {\"fontSize\": 20, \"font\": \"Poppins\", \"anchor\": \"middle\", \"color\": \"black\", \"fontWeight\": 400, \"dy\": -20, \"dx\": 10}, \"axis\": {\"labelFontSize\": 14, \"titleFontSize\": 14, \"titleFont\": \"Poppins\", \"labelFont\": \"Poppins\"}, \"axisX\": {\"labelAngle\": 0}, \"legend\": {\"labelFontSize\": 12, \"titleFontSize\": 14, \"titleFont\": \"Poppins\", \"labelFont\": \"Poppins\"}, \"bar\": {\"color\": \"purple\", \"fill\": \"purple\"}, \"line\": {\"color\": \"purple\"}, \"view\": {\"height\": 300, \"width\": 600, \"padding\": {\"top\": 190, \"left\": 10, \"right\": 10, \"bottom\": 90}}}, \"data\": {\"name\": \"data-d4bf0ee3efcadd134d85291d6c8017cc\"}, \"mark\": {\"type\": \"line\", \"point\": true}, \"encoding\": {\"tooltip\": [{\"field\": \"date\", \"type\": \"temporal\"}, {\"field\": \"cumulative_contributors\", \"type\": \"quantitative\"}], \"x\": {\"field\": \"date\", \"title\": \"Date\", \"type\": \"temporal\"}, \"y\": {\"field\": \"cumulative_contributors\", \"title\": \"Total Contributors\", \"type\": \"quantitative\"}}, \"height\": 400, \"params\": [{\"name\": \"param_1\", \"select\": {\"type\": \"interval\", \"encodings\": [\"x\", \"y\"]}, \"bind\": \"scales\"}], \"title\": \"Growth of Contributors Over Time\", \"width\": 700, \"$schema\": \"https://vega.github.io/schema/vega-lite/v5.17.0.json\", \"datasets\": {\"data-d4bf0ee3efcadd134d85291d6c8017cc\": [{\"date\": \"2019-10-31T00:00:00\", \"cumulative_contributors\": 7}, {\"date\": \"2019-11-30T00:00:00\", \"cumulative_contributors\": 7}, {\"date\": \"2019-12-31T00:00:00\", \"cumulative_contributors\": 12}, {\"date\": \"2020-01-31T00:00:00\", \"cumulative_contributors\": 12}, {\"date\": \"2020-02-29T00:00:00\", \"cumulative_contributors\": 12}, {\"date\": \"2020-03-31T00:00:00\", \"cumulative_contributors\": 13}, {\"date\": \"2020-04-30T00:00:00\", \"cumulative_contributors\": 14}, {\"date\": \"2020-05-31T00:00:00\", \"cumulative_contributors\": 14}, {\"date\": \"2020-06-30T00:00:00\", \"cumulative_contributors\": 15}, {\"date\": \"2020-07-31T00:00:00\", \"cumulative_contributors\": 15}, {\"date\": \"2020-08-31T00:00:00\", \"cumulative_contributors\": 15}, {\"date\": \"2020-09-30T00:00:00\", \"cumulative_contributors\": 17}, {\"date\": \"2020-10-31T00:00:00\", \"cumulative_contributors\": 19}, {\"date\": \"2020-11-30T00:00:00\", \"cumulative_contributors\": 19}, {\"date\": \"2020-12-31T00:00:00\", \"cumulative_contributors\": 19}, {\"date\": \"2021-01-31T00:00:00\", \"cumulative_contributors\": 19}, {\"date\": \"2021-02-28T00:00:00\", \"cumulative_contributors\": 20}, {\"date\": \"2021-03-31T00:00:00\", \"cumulative_contributors\": 23}, {\"date\": \"2021-04-30T00:00:00\", \"cumulative_contributors\": 24}, {\"date\": \"2021-05-31T00:00:00\", \"cumulative_contributors\": 26}, {\"date\": \"2021-06-30T00:00:00\", \"cumulative_contributors\": 26}, {\"date\": \"2021-07-31T00:00:00\", \"cumulative_contributors\": 26}, {\"date\": \"2021-08-31T00:00:00\", \"cumulative_contributors\": 27}, {\"date\": \"2021-09-30T00:00:00\", \"cumulative_contributors\": 29}, {\"date\": \"2021-10-31T00:00:00\", \"cumulative_contributors\": 29}, {\"date\": \"2021-11-30T00:00:00\", \"cumulative_contributors\": 29}, {\"date\": \"2021-12-31T00:00:00\", \"cumulative_contributors\": 29}, {\"date\": \"2022-01-31T00:00:00\", \"cumulative_contributors\": 31}, {\"date\": \"2022-02-28T00:00:00\", \"cumulative_contributors\": 31}, {\"date\": \"2022-03-31T00:00:00\", \"cumulative_contributors\": 31}, {\"date\": \"2022-04-30T00:00:00\", \"cumulative_contributors\": 31}, {\"date\": \"2022-05-31T00:00:00\", \"cumulative_contributors\": 31}, {\"date\": \"2022-06-30T00:00:00\", \"cumulative_contributors\": 31}, {\"date\": \"2022-07-31T00:00:00\", \"cumulative_contributors\": 31}, {\"date\": \"2022-08-31T00:00:00\", \"cumulative_contributors\": 31}, {\"date\": \"2022-09-30T00:00:00\", \"cumulative_contributors\": 33}, {\"date\": \"2022-10-31T00:00:00\", \"cumulative_contributors\": 33}, {\"date\": \"2022-11-30T00:00:00\", \"cumulative_contributors\": 35}, {\"date\": \"2022-12-31T00:00:00\", \"cumulative_contributors\": 35}, {\"date\": \"2023-01-31T00:00:00\", \"cumulative_contributors\": 38}, {\"date\": \"2023-02-28T00:00:00\", \"cumulative_contributors\": 46}, {\"date\": \"2023-03-31T00:00:00\", \"cumulative_contributors\": 70}, {\"date\": \"2023-04-30T00:00:00\", \"cumulative_contributors\": 106}, {\"date\": \"2023-05-31T00:00:00\", \"cumulative_contributors\": 112}, {\"date\": \"2023-06-30T00:00:00\", \"cumulative_contributors\": 117}, {\"date\": \"2023-07-31T00:00:00\", \"cumulative_contributors\": 139}, {\"date\": \"2023-08-31T00:00:00\", \"cumulative_contributors\": 140}, {\"date\": \"2023-09-30T00:00:00\", \"cumulative_contributors\": 149}, {\"date\": \"2023-10-31T00:00:00\", \"cumulative_contributors\": 164}, {\"date\": \"2023-11-30T00:00:00\", \"cumulative_contributors\": 166}, {\"date\": \"2023-12-31T00:00:00\", \"cumulative_contributors\": 177}, {\"date\": \"2024-01-31T00:00:00\", \"cumulative_contributors\": 190}, {\"date\": \"2024-02-29T00:00:00\", \"cumulative_contributors\": 196}, {\"date\": \"2024-03-31T00:00:00\", \"cumulative_contributors\": 200}, {\"date\": \"2024-04-30T00:00:00\", \"cumulative_contributors\": 200}, {\"date\": \"2024-05-31T00:00:00\", \"cumulative_contributors\": 215}, {\"date\": \"2024-06-30T00:00:00\", \"cumulative_contributors\": 230}, {\"date\": \"2024-07-31T00:00:00\", \"cumulative_contributors\": 245}, {\"date\": \"2024-08-31T00:00:00\", \"cumulative_contributors\": 256}, {\"date\": \"2024-09-30T00:00:00\", \"cumulative_contributors\": 259}, {\"date\": \"2024-10-31T00:00:00\", \"cumulative_contributors\": 262}, {\"date\": \"2024-11-30T00:00:00\", \"cumulative_contributors\": 264}, {\"date\": \"2024-12-31T00:00:00\", \"cumulative_contributors\": 274}, {\"date\": \"2025-01-31T00:00:00\", \"cumulative_contributors\": 279}, {\"date\": \"2025-02-28T00:00:00\", \"cumulative_contributors\": 282}]}}, {\"mode\": \"vega-lite\"});\n",
       "</script>"
      ],
      "text/plain": [
       "alt.Chart(...)"
      ]
     },
     "execution_count": 7,
     "metadata": {},
     "output_type": "execute_result"
    }
   ],
   "source": [
    "\n",
    "# Create an Altair line chart\n",
    "chart = alt.Chart(cumulative_growth).mark_line(point=True).encode(\n",
    "    x=alt.X(\"date:T\", title=\"Date\"),\n",
    "    y=alt.Y(\"cumulative_contributors:Q\", title=\"Total Contributors\"),\n",
    "    tooltip=[\"date:T\", \"cumulative_contributors:Q\"]\n",
    ").properties(\n",
    "    title=\"Growth of Contributors Over Time\",\n",
    "    width=700,\n",
    "    height=400\n",
    ").interactive()\n",
    "\n",
    "chart"
   ]
  }
 ],
 "metadata": {
  "kernelspec": {
   "display_name": "Python 3 (ipykernel)",
   "language": "python",
   "name": "python3"
  },
  "language_info": {
   "codemirror_mode": {
    "name": "ipython",
    "version": 3
   },
   "file_extension": ".py",
   "mimetype": "text/x-python",
   "name": "python",
   "nbconvert_exporter": "python",
   "pygments_lexer": "ipython3",
   "version": "3.11.9"
  },
  "vscode": {
   "interpreter": {
    "hash": "d7b89e158b719c02a21186c9646700ecf5a8cc5b1b6f738df9b6ffa75e5e74e4"
   }
  }
 },
 "nbformat": 4,
 "nbformat_minor": 4
}
